{
 "cells": [
  {
   "cell_type": "code",
   "execution_count": 4,
   "metadata": {},
   "outputs": [
    {
     "name": "stderr",
     "output_type": "stream",
     "text": [
      "100%|████████████████████████████████████████████████████████████████████████████████| 300/300 [05:45<00:00,  1.15s/it]\n"
     ]
    }
   ],
   "source": [
    "import cv2\n",
    "import numpy as np\n",
    "import os\n",
    "from tqdm import tqdm\n",
    "\n",
    "VOC_CLASSES = ['background', 'aeroplane', 'bicycle', 'bird', 'boat',\n",
    "            'bottle', 'bus', 'car', 'cat', 'chair', 'cow',\n",
    "            'diningtable', 'dog', 'horse', 'motorbike', 'person',\n",
    "            'potted plant', 'sheep', 'sofa', 'train', 'tv/monitor']\n",
    "\n",
    "def class2label(image_id):\n",
    "    label_file_path = 'VOC2012/SegmentationClass/'\n",
    "    VOC_COLORMAP = np.array([[0, 0, 0], [128, 0, 0], [0, 128, 0], [128, 128, 0],\n",
    "                         [0, 0, 128], [128, 0, 128], [0, 128, 128], [128, 128, 128],\n",
    "                         [64, 0, 0], [192, 0, 0], [64, 128, 0], [192, 128, 0],\n",
    "                         [64, 0, 128], [192, 0, 128], [64, 128, 128], [192, 128, 128],\n",
    "                         [0, 64, 0], [128, 64, 0], [0, 192, 0], [128, 192, 0],\n",
    "                         [0, 64, 128]])\n",
    "\n",
    "    label_url = label_file_path + image_id + '.png'\n",
    "    mask = cv2.imread(label_url)\n",
    "    mask = cv2.cvtColor(mask, cv2.COLOR_BGR2RGB)\n",
    "    mask = mask.astype(int)\n",
    "    label_mask = np.zeros((mask.shape[0], mask.shape[1]), dtype=np.int16)\n",
    "\n",
    "    for ii, label in enumerate(VOC_COLORMAP):\n",
    "      locations = np.all(mask == label, axis=-1)\n",
    "      label_mask[locations] = ii\n",
    "\n",
    "    return label_mask\n",
    "\n",
    "f = open('VOC2012/ImageSets/Segmentation/train.txt', 'r')\n",
    "tmp = f.readlines()\n",
    "img_id_list = []\n",
    "for i in tmp:\n",
    "    img_id_list.append(i[:-1])\n",
    "\n",
    "label_hist = np.zeros([21, 3, 256])\n",
    "for img_id in tqdm(img_id_list[:300]):\n",
    "    label_img = class2label(img_id)\n",
    "    img = cv2.imread('VOC2012/JPEGImages/'+img_id+'.jpg')\n",
    "    width, height, _ = np.shape(img)\n",
    "    for i in range(width):\n",
    "        for j in range(height):\n",
    "            for k in range(3):\n",
    "                label = label_img[i, j]\n",
    "                pixel = img[i, j, k]\n",
    "                label_hist[label, k, pixel] += 1\n",
    "\n"
   ]
  },
  {
   "cell_type": "code",
   "execution_count": 22,
   "metadata": {},
   "outputs": [
    {
     "data": {
      "image/png": "[encoded data removed]",
      "text/plain": [
       "<Figure size 432x288 with 1 Axes>"
      ]
     },
     "metadata": {
      "needs_background": "light"
     },
     "output_type": "display_data"
    }
   ],
   "source": [
    "import matplotlib.pyplot as plt\n",
    "label_id = 15\n",
    "x = list(range(256))\n",
    "plt.bar(x, np.squeeze(label_hist[label_id, 0, :]), color='r', label='red')\n",
    "plt.bar(x, np.squeeze(label_hist[label_id, 1, :]), color='g', label='green')\n",
    "plt.bar(x, np.squeeze(label_hist[label_id, 2, :]), color='b', label='blue')\n",
    "plt.title(VOC_CLASSES[label_id])\n",
    "plt.legend()\n",
    "plt.savefig('hist_'+str(label_id))\n",
    "plt.show()"
   ]
  },
  {
   "cell_type": "code",
   "execution_count": 12,
   "metadata": {},
   "outputs": [
    {
     "data": {
      "text/plain": [
       "(255,)"
      ]
     },
     "execution_count": 12,
     "metadata": {},
     "output_type": "execute_result"
    }
   ],
   "source": [
    "np.shape(x)"
   ]
  },
  {
   "cell_type": "code",
   "execution_count": null,
   "metadata": {},
   "outputs": [],
   "source": []
  }
 ],
 "metadata": {
  "kernelspec": {
   "display_name": "Python 3",
   "language": "python",
   "name": "python3"
  },
  "language_info": {
   "codemirror_mode": {
    "name": "ipython",
    "version": 3
   },
   "file_extension": ".py",
   "mimetype": "text/x-python",
   "name": "python",
   "nbconvert_exporter": "python",
   "pygments_lexer": "ipython3",
   "version": "3.7.6"
  }
 },
 "nbformat": 4,
 "nbformat_minor": 4
}
